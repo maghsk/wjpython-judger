{
 "cells": [
  {
   "cell_type": "code",
   "execution_count": null,
   "metadata": {},
   "outputs": [],
   "source": [
    "import pandas as pd"
   ]
  },
  {
   "cell_type": "code",
   "execution_count": null,
   "metadata": {},
   "outputs": [],
   "source": [
    "hwid_lst = ['hw1', 'hw2', 'hw3']"
   ]
  },
  {
   "cell_type": "code",
   "execution_count": null,
   "metadata": {},
   "outputs": [],
   "source": [
    "result_df = pd.read_csv('./userid_studentid_final.csv', dtype=str).set_index('userid')\n",
    "for hwid in hwid_lst:\n",
    "    df = pd.read_csv(f'{hwid}_result.csv', dtype=str).set_index('userid')\n",
    "    base_cols = [col for col in df.columns if col.endswith('_base')]\n",
    "    result_df = result_df.merge(df[base_cols], left_index=True, right_index=True)\n",
    "    result_df.rename(columns={col: f'{hwid}_{col}' for col in base_cols}, inplace=True)\n",
    "\n",
    "result_df"
   ]
  },
  {
   "cell_type": "code",
   "execution_count": null,
   "metadata": {},
   "outputs": [],
   "source": [
    "result_df.to_csv('result.csv')\n",
    "result_df.to_csv('result_gbk.csv', encoding='gbk')"
   ]
  },
  {
   "cell_type": "code",
   "execution_count": null,
   "metadata": {},
   "outputs": [],
   "source": []
  }
 ],
 "metadata": {
  "interpreter": {
   "hash": "36ada66d8b42989a5acdc47aa4e54dd7a683233f178f83e289a05cfb1d8a945c"
  },
  "kernelspec": {
   "display_name": "Python 3.8.12 64-bit ('CheatJudger': conda)",
   "language": "python",
   "name": "python3"
  },
  "language_info": {
   "codemirror_mode": {
    "name": "ipython",
    "version": 3
   },
   "file_extension": ".py",
   "mimetype": "text/x-python",
   "name": "python",
   "nbconvert_exporter": "python",
   "pygments_lexer": "ipython3",
   "version": "3.8.12"
  },
  "orig_nbformat": 4
 },
 "nbformat": 4,
 "nbformat_minor": 2
}
