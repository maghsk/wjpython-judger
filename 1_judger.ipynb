{
 "cells": [
  {
   "cell_type": "code",
   "execution_count": null,
   "metadata": {},
   "outputs": [],
   "source": [
    "import re\n",
    "import os\n",
    "import shutil\n",
    "from pathlib import Path\n",
    "import itertools\n",
    "from collections import defaultdict\n",
    "import pandas as pd\n",
    "import subprocess\n",
    "from binascii import a2b_hex\n",
    "import hashlib"
   ]
  },
  {
   "cell_type": "code",
   "execution_count": null,
   "metadata": {},
   "outputs": [],
   "source": [
    "def judge_list(filename_list: list):\n",
    "    dct = defaultdict(list)\n",
    "    for filename in filename_list:\n",
    "        hasher = hashlib.sha512()\n",
    "        for line in open(filename, 'r'):\n",
    "            bin = re.sub(r'[ \\t\\n\\r]', '', line).encode()\n",
    "            hasher.update(bin)\n",
    "        dct[hasher.digest()].append(filename)\n",
    "    ret = [dct[k] for k in dct if len(dct[k]) > 1]\n",
    "    # IPython.embed()\n",
    "    return ret"
   ]
  },
  {
   "cell_type": "code",
   "execution_count": null,
   "metadata": {},
   "outputs": [],
   "source": [
    "HW_ID = \"hw3\"\n",
    "SRC_DIR = f\"./playground/{HW_ID}/raw_data\"\n",
    "DST_DIR = f\"./playground/{HW_ID}/copied_code\"\n",
    "BASE_SUFFIX = \"_base\"\n",
    "COPIED_SUFFIX = \"_copied\"\n",
    "COMMENT_SUFFIX = \"_comment\"\n",
    "TA_USERNAMES = ['Yudong', 'fuqi', 'hjl', 'liumugeng', 'Guo Yaoqi', 'liukb']\n",
    "TA_USERIDS = [137238,90322,935617,1106922,936531,810106]\n",
    "\n",
    "# example: 31111978_2_AC_935617(Yudong).py3\n",
    "pattern = r\"([0-9]*)_([0-9]*)_([A-Z]*)_([0-9]*)\\((.*)\\)\\.py3\""
   ]
  },
  {
   "cell_type": "code",
   "execution_count": null,
   "metadata": {},
   "outputs": [],
   "source": [
    "xuanke = pd.read_csv('userid_studentid_final.csv',dtype=str)\n",
    "xuanke.dropna(axis='index', inplace=True)\n",
    "xuanke['userid'] = xuanke['userid'].astype(int)\n",
    "xuanke = xuanke.set_index('userid')"
   ]
  },
  {
   "cell_type": "code",
   "execution_count": null,
   "metadata": {},
   "outputs": [],
   "source": [
    "score_map = {\n",
    "    'AC' : 2.0,\n",
    "    'PE' : 1.0,\n",
    "    'WA' : 1.0,\n",
    "    'RE' : 0.0,\n",
    "    'CE' : 0.0,\n",
    "    'TLE' : 0.2,\n",
    "    'WT' : 0.4,\n",
    "}\n"
   ]
  },
  {
   "cell_type": "code",
   "execution_count": null,
   "metadata": {},
   "outputs": [],
   "source": [
    "lst = os.listdir(SRC_DIR)\n",
    "dic = {}\n",
    "for name in lst:\n",
    "    if name.endswith(\".py3\"):\n",
    "        match = re.match(pattern, name)\n",
    "        SUBID, PROBID, STATUS, USERID, USERNAME = match.groups()\n",
    "        USERID = int(USERID)\n",
    "        if USERID in TA_USERIDS: continue\n",
    "        if USERID not in xuanke.index: continue\n",
    "        SUBID = int(SUBID)\n",
    "        if PROBID not in dic:\n",
    "            dic[PROBID] = {}\n",
    "        if USERID not in dic[PROBID]:\n",
    "            dic[PROBID][USERID] = {}\n",
    "        if STATUS not in dic[PROBID][USERID]:\n",
    "            dic[PROBID][USERID][STATUS] = []\n",
    "        dic[PROBID][USERID][STATUS].append((SUBID, name))\n"
   ]
  },
  {
   "cell_type": "code",
   "execution_count": null,
   "metadata": {},
   "outputs": [],
   "source": [
    "for prob_id, username_2_status_subid in dic.items():\n",
    "    for username, status_2_subid in username_2_status_subid.items():\n",
    "        max_score = 0.0\n",
    "        stat = (-1, '')\n",
    "        for status, subid in status_2_subid.items():\n",
    "            if status == 'AC': stat = max(subid)\n",
    "            max_score = max(max_score, score_map[status])\n",
    "        dic[prob_id][username] = {'score': max_score, 'stat': stat[0], 'name': stat[1]}"
   ]
  },
  {
   "cell_type": "code",
   "execution_count": null,
   "metadata": {},
   "outputs": [],
   "source": [
    "prob_ids = sorted(dic.keys())\n",
    "prob_ids"
   ]
  },
  {
   "cell_type": "code",
   "execution_count": null,
   "metadata": {
    "collapsed": false,
    "jupyter": {
     "outputs_hidden": false
    },
    "pycharm": {
     "name": "#%%\n"
    }
   },
   "outputs": [],
   "source": [
    "df = pd.DataFrame(columns=[x+BASE_SUFFIX for x in prob_ids] + [x+COPIED_SUFFIX for x in prob_ids] + [x+COMMENT_SUFFIX for x in prob_ids], index=xuanke.index)"
   ]
  },
  {
   "cell_type": "code",
   "execution_count": null,
   "metadata": {},
   "outputs": [],
   "source": [
    "df = xuanke.merge(df, left_index=True, right_index=True)"
   ]
  },
  {
   "cell_type": "code",
   "execution_count": null,
   "metadata": {},
   "outputs": [],
   "source": [
    "prob_to_filelist = defaultdict(list)\n",
    "filename_to_commented = {}\n",
    "\n",
    "for prob_id, username_2_info in dic.items():\n",
    "    for username, info in username_2_info.items():\n",
    "        if info['stat'] == -1: continue\n",
    "        src_path = os.path.join(SRC_DIR, info['name'])\n",
    "        prob_to_filelist[prob_id].append(src_path)\n",
    "        code = \"\".join(open(src_path).readlines())\n",
    "        commented = \"'''\" in code or \"#\" in code\n",
    "        df.loc[username, prob_id+COMMENT_SUFFIX] = 'yes' if commented else 'no'"
   ]
  },
  {
   "cell_type": "code",
   "execution_count": null,
   "metadata": {
    "collapsed": false,
    "jupyter": {
     "outputs_hidden": false
    },
    "pycharm": {
     "name": "#%%\n"
    }
   },
   "outputs": [],
   "source": [
    "for prob_id, username_2_info in dic.items():\n",
    "    for username, info in username_2_info.items():\n",
    "        df.loc[username,prob_id+BASE_SUFFIX] = info['score']\n",
    "df"
   ]
  },
  {
   "cell_type": "code",
   "execution_count": null,
   "metadata": {
    "collapsed": false,
    "jupyter": {
     "outputs_hidden": false
    },
    "pycharm": {
     "name": "#%%\n"
    }
   },
   "outputs": [],
   "source": [
    "for prob_id in prob_ids:\n",
    "    filename_lst = prob_to_filelist[prob_id]\n",
    "    same_lst = judge_list(filename_lst)\n",
    "    print(prob_id)\n",
    "    prob_dst_dir = os.path.join(DST_DIR, prob_id)\n",
    "    if os.path.exists(prob_dst_dir):\n",
    "        shutil.rmtree(prob_dst_dir)\n",
    "    for i, lst in enumerate(same_lst):\n",
    "        print(f\"  list{i}:\")\n",
    "        for name in lst:\n",
    "            final_name = name.split('/')[-1]\n",
    "            match = re.match(pattern, final_name)\n",
    "            SUBID, PROBID, STATUS, USERID, USERNAME = match.groups()\n",
    "            df.loc[int(USERID), prob_id+COPIED_SUFFIX] = \"yes-%03d\" % i\n",
    "            \n",
    "            dst_dir = os.path.join(prob_dst_dir, \"%03d\" % i)\n",
    "            Path(dst_dir).mkdir(exist_ok=True, parents=True)\n",
    "            shutil.copy(name, dst_dir)\n",
    "            print(f\"    {final_name}\")\n",
    "# df"
   ]
  },
  {
   "cell_type": "code",
   "execution_count": null,
   "metadata": {
    "collapsed": false,
    "jupyter": {
     "outputs_hidden": false
    },
    "pycharm": {
     "name": "#%%\n"
    }
   },
   "outputs": [],
   "source": [
    "for x in prob_ids:\n",
    "    col = x + COMMENT_SUFFIX\n",
    "    df[col] = df[col].fillna('N/A')\n",
    "    \n",
    "    col = x + COPIED_SUFFIX\n",
    "    df[col] = df[col].fillna('no')\n",
    "    \n",
    "    col = x + BASE_SUFFIX\n",
    "    df[col] = df[col].fillna(0.0)\n",
    "df"
   ]
  },
  {
   "cell_type": "code",
   "execution_count": null,
   "metadata": {},
   "outputs": [],
   "source": [
    "df.to_csv(f'{HW_ID}_result.csv')"
   ]
  },
  {
   "cell_type": "code",
   "execution_count": null,
   "metadata": {},
   "outputs": [],
   "source": []
  }
 ],
 "metadata": {
  "interpreter": {
   "hash": "36ada66d8b42989a5acdc47aa4e54dd7a683233f178f83e289a05cfb1d8a945c"
  },
  "kernelspec": {
   "display_name": "Python 3.8.12 64-bit ('CheatJudger': conda)",
   "language": "python",
   "name": "python3"
  },
  "language_info": {
   "codemirror_mode": {
    "name": "ipython",
    "version": 3
   },
   "file_extension": ".py",
   "mimetype": "text/x-python",
   "name": "python",
   "nbconvert_exporter": "python",
   "pygments_lexer": "ipython3",
   "version": "3.8.12"
  }
 },
 "nbformat": 4,
 "nbformat_minor": 4
}
