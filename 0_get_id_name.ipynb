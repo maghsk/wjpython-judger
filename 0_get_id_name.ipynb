{
 "cells": [
  {
   "cell_type": "code",
   "execution_count": null,
   "metadata": {},
   "outputs": [],
   "source": [
    "import bs4\n",
    "import requests\n",
    "import json\n",
    "import pandas as pd\n",
    "from pypinyin import pinyin, lazy_pinyin, Style\n",
    "import collections"
   ]
  },
  {
   "cell_type": "code",
   "execution_count": null,
   "metadata": {},
   "outputs": [],
   "source": [
    "cookies = json.load(open('cookies.json'))\n",
    "cookies"
   ]
  },
  {
   "cell_type": "code",
   "execution_count": null,
   "metadata": {},
   "outputs": [],
   "source": [
    "res = []"
   ]
  },
  {
   "cell_type": "code",
   "execution_count": null,
   "metadata": {},
   "outputs": [],
   "source": [
    "k = 0\n",
    "flag = True\n",
    "\n",
    "while flag:\n",
    "    k += 1\n",
    "    url = f\"http://wjpython.openjudge.cn/admin/members/?page={k}\"\n",
    "    print(url)\n",
    "    result = requests.get(\n",
    "        url=url,\n",
    "        cookies=cookies\n",
    "    )\n",
    "    bs4_obj = bs4.BeautifulSoup(result.text, \"html.parser\")\n",
    "    lst = bs4_obj.find_all(\"input\", {\"name\": \"users[]\", \"type\": \"checkbox\"})\n",
    "    for tr in bs4_obj.find_all(\"tr\")[1:-1]:\n",
    "        ttt = tr.find_all(\"td\")\n",
    "        userid = int(next(ttt[0].children).attrs['value'])\n",
    "        username = ttt[1].text\n",
    "        year, month, _ = ttt[-1].text.split('-')\n",
    "        year = int(year)\n",
    "        month = int(month)\n",
    "        if year >= 2021 and month >= 8:\n",
    "            res.append((userid, username))\n",
    "        else:\n",
    "            flag = False\n",
    "            break\n",
    "    if not flag:\n",
    "        break"
   ]
  },
  {
   "cell_type": "code",
   "execution_count": null,
   "metadata": {},
   "outputs": [],
   "source": [
    "res"
   ]
  },
  {
   "cell_type": "code",
   "execution_count": null,
   "metadata": {},
   "outputs": [],
   "source": [
    "df = pd.read_excel('选课名单.xls')\n",
    "df.insert(0, 'userid', pd.NA)\n",
    "df.insert(1, 'username', pd.NA)\n",
    "df"
   ]
  },
  {
   "cell_type": "code",
   "execution_count": null,
   "metadata": {},
   "outputs": [],
   "source": [
    "for line in df.iterrows():\n",
    "    xuehao = line[1]['学号']\n",
    "    xingming = line[1]['姓名']\n",
    "    for userid, username in res:\n",
    "        if xingming in username \\\n",
    "            or str(xuehao) in username \\\n",
    "            or (username in xingming and len(username) >= 2) \\\n",
    "            or \"\".join(lazy_pinyin(xingming)) in username.lower():\n",
    "                df.loc[line[0], 'userid'] = userid\n",
    "                df.loc[line[0], 'username'] = username\n",
    "                break\n",
    "    else:\n",
    "        print(xingming, xuehao)"
   ]
  },
  {
   "cell_type": "code",
   "execution_count": null,
   "metadata": {},
   "outputs": [],
   "source": [
    "dup = [item for item, count in collections.Counter(df['userid']).items() if count > 1]\n",
    "print(dup)\n",
    "assert len(dup) == 0"
   ]
  },
  {
   "cell_type": "code",
   "execution_count": null,
   "metadata": {},
   "outputs": [],
   "source": [
    "to_save = df[['userid', 'username', '学号', '姓名']]"
   ]
  },
  {
   "cell_type": "code",
   "execution_count": null,
   "metadata": {},
   "outputs": [],
   "source": [
    "to_save.to_csv('userid_studentid.csv', index=False)"
   ]
  },
  {
   "cell_type": "code",
   "execution_count": null,
   "metadata": {},
   "outputs": [],
   "source": []
  }
 ],
 "metadata": {
  "interpreter": {
   "hash": "36ada66d8b42989a5acdc47aa4e54dd7a683233f178f83e289a05cfb1d8a945c"
  },
  "kernelspec": {
   "display_name": "Python 3.8.12 64-bit ('CheatJudger': conda)",
   "language": "python",
   "name": "python3"
  },
  "language_info": {
   "codemirror_mode": {
    "name": "ipython",
    "version": 3
   },
   "file_extension": ".py",
   "mimetype": "text/x-python",
   "name": "python",
   "nbconvert_exporter": "python",
   "pygments_lexer": "ipython3",
   "version": "3.8.12"
  },
  "orig_nbformat": 4
 },
 "nbformat": 4,
 "nbformat_minor": 2
}
